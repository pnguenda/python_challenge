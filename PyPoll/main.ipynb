{
 "cells": [
  {
   "cell_type": "code",
   "execution_count": 1,
   "metadata": {
    "tags": []
   },
   "outputs": [
    {
     "output_type": "stream",
     "name": "stdout",
     "text": "Voter ID County Candidate\n0        12864552  Marsh      Khan\n1        17444633  Marsh    Correy\n2        19330107  Marsh      Khan\n3        19865775  Queen      Khan\n4        11927875  Marsh      Khan\n...           ...    ...       ...\n3520996  18050509  Marsh      Khan\n3520997  13060332  Marsh      Khan\n3520998  16754708  Queen      Khan\n3520999  12083146  Queen      Khan\n3521000  14526187  Queen  O'Tooley\n\n[3521001 rows x 3 columns]\n"
    }
   ],
   "source": [
    "# import dependencies \n",
    "import pandas as pd\n",
    "\n",
    "# read a file\n",
    "data_file = pd.read_csv(\"Resources/election_data.csv\")\n",
    "\n",
    "print(data_file)"
   ]
  },
  {
   "cell_type": "code",
   "execution_count": 2,
   "metadata": {},
   "outputs": [
    {
     "output_type": "execute_result",
     "data": {
      "text/plain": "3521001"
     },
     "metadata": {},
     "execution_count": 2
    }
   ],
   "source": [
    "# calculate the total number of votes cast\n",
    "total_votes = len(data_file)\n",
    "total_votes"
   ]
  },
  {
   "cell_type": "code",
   "execution_count": 3,
   "metadata": {},
   "outputs": [
    {
     "output_type": "execute_result",
     "data": {
      "text/plain": "Khan        2218231\nCorrey       704200\nLi           492940\nO'Tooley     105630\nName: Candidate, dtype: int64"
     },
     "metadata": {},
     "execution_count": 3
    }
   ],
   "source": [
    "# create the complete list of candidates who received votes\n",
    "candidates_count = data_file[\"Candidate\"].value_counts()\n",
    "candidates_count"
   ]
  },
  {
   "cell_type": "code",
   "execution_count": 4,
   "metadata": {},
   "outputs": [
    {
     "output_type": "execute_result",
     "data": {
      "text/plain": "Khan        63.000011\nCorrey      19.999994\nLi          13.999996\nO'Tooley     2.999999\nName: Candidate, dtype: float64"
     },
     "metadata": {},
     "execution_count": 4
    }
   ],
   "source": [
    "# percentage of votes won by each candidates \n",
    "percentage_votes = (candidates_count/total_votes) *100\n",
    "percentage_votes"
   ]
  },
  {
   "cell_type": "code",
   "execution_count": 5,
   "metadata": {},
   "outputs": [
    {
     "output_type": "execute_result",
     "data": {
      "text/plain": "'Khan'"
     },
     "metadata": {},
     "execution_count": 5
    }
   ],
   "source": [
    "# winner of the election\n",
    "winner = candidates_count.idxmax()\n",
    "winner"
   ]
  },
  {
   "cell_type": "code",
   "execution_count": 6,
   "metadata": {
    "tags": []
   },
   "outputs": [
    {
     "output_type": "stream",
     "name": "stdout",
     "text": "```text\nElection results\n...........................\nTotal votes: 3521001\n...........................\nKhan: 63.0%(2218231)\nCorrey: 20.0%(704200)\nLi: 14.0%(492940)\nO'Tooley: 3.0%(105630)\n............................\nwinner: Khan\n............................\n```\n"
    }
   ],
   "source": [
    "# print all the results\n",
    "print(\"```text\")\n",
    "print(\"Election results\")\n",
    "print(\"...........................\")\n",
    "print(\"Total votes: \" + str(total_votes))\n",
    "print(\"...........................\")\n",
    "print(\"Khan:\" + \" \" + str(round(percentage_votes[0],3)) + \"%\" + \"(\"+str(candidates_count[0])+\")\")\n",
    "print(\"Correy:\" + \" \" + str(round(percentage_votes[1],3)) + \"%\" + \"(\"+str(candidates_count[1])+\")\")    \n",
    "print(\"Li:\" + \" \" + str(round(percentage_votes[2],3)) + \"%\" + \"(\"+str(candidates_count[2])+\")\")    \n",
    "print(\"O'Tooley:\" + \" \" + str(round(percentage_votes[3],3)) + \"%\" + \"(\"+str(candidates_count[3])+\")\")\n",
    "print(\"............................\")\n",
    "print(\"winner: \" + winner)\n",
    "print(\"............................\")\n",
    "print(\"```\")"
   ]
  },
  {
   "cell_type": "code",
   "execution_count": null,
   "metadata": {},
   "outputs": [],
   "source": [
    "l "
   ]
  }
 ],
 "metadata": {
  "kernelspec": {
   "display_name": "Python 3",
   "language": "python",
   "name": "python3"
  },
  "language_info": {
   "codemirror_mode": {
    "name": "ipython",
    "version": 3
   },
   "file_extension": ".py",
   "mimetype": "text/x-python",
   "name": "python",
   "nbconvert_exporter": "python",
   "pygments_lexer": "ipython3",
   "version": "3.8.3-final"
  }
 },
 "nbformat": 4,
 "nbformat_minor": 4
}