{
 "cells": [
  {
   "cell_type": "code",
   "execution_count": 1,
   "metadata": {},
   "outputs": [
    {
     "name": "stdout",
     "output_type": "stream",
     "text": [
      "         Voter ID County Candidate\n",
      "0        12864552  Marsh      Khan\n",
      "1        17444633  Marsh    Correy\n",
      "2        19330107  Marsh      Khan\n",
      "3        19865775  Queen      Khan\n",
      "4        11927875  Marsh      Khan\n",
      "...           ...    ...       ...\n",
      "3520996  18050509  Marsh      Khan\n",
      "3520997  13060332  Marsh      Khan\n",
      "3520998  16754708  Queen      Khan\n",
      "3520999  12083146  Queen      Khan\n",
      "3521000  14526187  Queen  O'Tooley\n",
      "\n",
      "[3521001 rows x 3 columns]\n"
     ]
    }
   ],
   "source": [
    "# import dependencies \n",
    "import pandas as pd\n",
    "\n",
    "# read a file\n",
    "data_file = pd.read_csv(\"Resources/election_data.csv\")\n",
    "\n",
    "print(data_file)"
   ]
  },
  {
   "cell_type": "code",
   "execution_count": 2,
   "metadata": {},
   "outputs": [
    {
     "data": {
      "text/plain": [
       "3521001"
      ]
     },
     "execution_count": 2,
     "metadata": {},
     "output_type": "execute_result"
    }
   ],
   "source": [
    "# calculate the total number of votes cast\n",
    "total_votes = len(data_file)\n",
    "total_votes"
   ]
  },
  {
   "cell_type": "code",
   "execution_count": 5,
   "metadata": {},
   "outputs": [
    {
     "data": {
      "text/plain": [
       "Khan        2218231\n",
       "Correy       704200\n",
       "Li           492940\n",
       "O'Tooley     105630\n",
       "Name: Candidate, dtype: int64"
      ]
     },
     "execution_count": 5,
     "metadata": {},
     "output_type": "execute_result"
    }
   ],
   "source": [
    "# create the complete list of candidates who received votes\n",
    "candidates_count = data_file[\"Candidate\"].value_counts()\n",
    "candidates_count"
   ]
  },
  {
   "cell_type": "code",
   "execution_count": 6,
   "metadata": {},
   "outputs": [
    {
     "data": {
      "text/plain": [
       "Khan        63.000011\n",
       "Correy      19.999994\n",
       "Li          13.999996\n",
       "O'Tooley     2.999999\n",
       "Name: Candidate, dtype: float64"
      ]
     },
     "execution_count": 6,
     "metadata": {},
     "output_type": "execute_result"
    }
   ],
   "source": [
    "# percentage of votes won by each candidates \n",
    "percentage_votes = (candidates_count/total_votes) *100\n",
    "percentage_votes"
   ]
  },
  {
   "cell_type": "code",
   "execution_count": 10,
   "metadata": {},
   "outputs": [
    {
     "data": {
      "text/plain": [
       "'Khan'"
      ]
     },
     "execution_count": 10,
     "metadata": {},
     "output_type": "execute_result"
    }
   ],
   "source": [
    "# winner of the election\n",
    "winner = candidates_count.idxmax()\n",
    "winner"
   ]
  },
  {
   "cell_type": "code",
   "execution_count": 17,
   "metadata": {},
   "outputs": [
    {
     "name": "stdout",
     "output_type": "stream",
     "text": [
      "```text\n",
      "Election results\n",
      "...........................\n",
      "Total votes: 3521001\n",
      "...........................\n",
      "Khan: 63.0%(2218231)\n",
      "Correy: 20.0%(704200)\n",
      "Li: 14.0%(492940)\n",
      "O'Tooley: 3.0%(105630)\n",
      "............................\n",
      "winner: Khan\n",
      "............................\n",
      "```\n"
     ]
    }
   ],
   "source": [
    "# print all the results\n",
    "print(\"```text\")\n",
    "print(\"Election results\")\n",
    "print(\"...........................\")\n",
    "print(\"Total votes: \" + str(total_votes))\n",
    "print(\"...........................\")\n",
    "print(\"Khan:\" + \" \" + str(round(percentage_votes[0],3)) + \"%\" + \"(\"+str(candidates_count[0])+\")\")\n",
    "print(\"Correy:\" + \" \" + str(round(percentage_votes[1],3)) + \"%\" + \"(\"+str(candidates_count[1])+\")\")    \n",
    "print(\"Li:\" + \" \" + str(round(percentage_votes[2],3)) + \"%\" + \"(\"+str(candidates_count[2])+\")\")    \n",
    "print(\"O'Tooley:\" + \" \" + str(round(percentage_votes[3],3)) + \"%\" + \"(\"+str(candidates_count[3])+\")\")\n",
    "print(\"............................\")\n",
    "print(\"winner: \" + winner)\n",
    "print(\"............................\")\n",
    "print(\"```\")"
   ]
  },
  {
   "cell_type": "code",
   "execution_count": null,
   "metadata": {},
   "outputs": [],
   "source": []
  }
 ],
 "metadata": {
  "kernelspec": {
   "display_name": "Python 3",
   "language": "python",
   "name": "python3"
  },
  "language_info": {
   "codemirror_mode": {
    "name": "ipython",
    "version": 3
   },
   "file_extension": ".py",
   "mimetype": "text/x-python",
   "name": "python",
   "nbconvert_exporter": "python",
   "pygments_lexer": "ipython3",
   "version": "3.6.10"
  }
 },
 "nbformat": 4,
 "nbformat_minor": 4
}